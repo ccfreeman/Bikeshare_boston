{
 "cells": [
  {
   "cell_type": "markdown",
   "metadata": {},
   "source": [
    "# Data exploration with Boston Bikeshare csvs"
   ]
  },
  {
   "cell_type": "code",
   "execution_count": 1,
   "metadata": {},
   "outputs": [],
   "source": [
    "import pandas as pd\n",
    "import numpy as np\n",
    "import glob\n",
    "import os\n",
    "import copy"
   ]
  },
  {
   "cell_type": "code",
   "execution_count": 2,
   "metadata": {},
   "outputs": [],
   "source": [
    "def readDir():\n",
    "    \"\"\"\n",
    "    Returns a dataframe of the data files in the directory with the bikeshare data.\n",
    "    \"\"\"\n",
    "    data = pd.DataFrame()\n",
    "    \n",
    "    path = os.path.join(os.sep, \"raid\", \"public_data\", \"Bike_Share_Data\", \"Boston\")\n",
    "    \n",
    "    for filename in glob.glob(os.path.join(path, '*.csv')):\n",
    "        # Get the filesizes in megabytes\n",
    "        f_size = os.path.getsize(filename) / 1_000_000\n",
    "        \n",
    "        # A dictionary stores information about the files to be be put in the df\n",
    "        file = {\"Filename\": filename, \"Size (mb)\": f_size}\n",
    "        data = data.append(file, ignore_index=True)\n",
    "        \n",
    "    return data\n",
    "\n",
    "def openCSV(files, index):\n",
    "    \"\"\"\n",
    "    Using filenames retrieved with readDir, use this function to open a specific\n",
    "    csv. Returns a dataframe with the data requested.\n",
    "    \"\"\"\n",
    "    data = pd.read_csv(files.loc[index, 'Filename'])\n",
    "    if index != 0:\n",
    "        data['starttime'] = pd.to_datetime(data['starttime'])\n",
    "        data['stoptime'] = pd.to_datetime(data['stoptime'])\n",
    "#         files.loc[index, 'Month'] = data.loc[0, 'starttime'].month\n",
    "#         files.loc[index, 'Year']  = data.loc[0, 'starttime'].year\n",
    "    return data\n",
    "    "
   ]
  },
  {
   "cell_type": "code",
   "execution_count": 3,
   "metadata": {},
   "outputs": [],
   "source": [
    "files = readDir()"
   ]
  },
  {
   "cell_type": "code",
   "execution_count": 4,
   "metadata": {},
   "outputs": [
    {
     "data": {
      "text/plain": [
       "'/raid/public_data/Bike_Share_Data/Boston/Hubway_Stations_as_of_July_2017.csv'"
      ]
     },
     "execution_count": 4,
     "metadata": {},
     "output_type": "execute_result"
    }
   ],
   "source": [
    "files.loc[0, 'Filename']"
   ]
  },
  {
   "cell_type": "code",
   "execution_count": 5,
   "metadata": {},
   "outputs": [],
   "source": [
    "# files.to_csv(\"data_info.csv\", index=False)"
   ]
  },
  {
   "cell_type": "code",
   "execution_count": 6,
   "metadata": {},
   "outputs": [],
   "source": [
    "def usePerMonth(files_df):\n",
    "    \"\"\"\n",
    "    Takes the dataframe of files and returns a new dataframe of files with rides per calendar month.\n",
    "    \"\"\"\n",
    "    resdf = pd.DataFrame()\n",
    "    \n",
    "    for i in range(1, files_df.index.values.shape[0]):\n",
    "        df = openCSV(files_df, i)\n",
    "        resdf = resdf.append({'Date': df.loc[0, 'starttime'], 'Rides': df.index.values.shape[0]}, ignore_index=True)\n",
    "        \n",
    "    return resdf"
   ]
  },
  {
   "cell_type": "code",
   "execution_count": 7,
   "metadata": {},
   "outputs": [],
   "source": [
    "df = usePerMonth(files)"
   ]
  },
  {
   "cell_type": "code",
   "execution_count": 8,
   "metadata": {},
   "outputs": [],
   "source": [
    "import matplotlib.pyplot as plt\n",
    "import seaborn as sns"
   ]
  },
  {
   "cell_type": "code",
   "execution_count": 9,
   "metadata": {
    "scrolled": true
   },
   "outputs": [
    {
     "data": {
      "image/png": "[encoded data removed]",
      "text/plain": [
       "<Figure size 432x288 with 1 Axes>"
      ]
     },
     "metadata": {},
     "output_type": "display_data"
    }
   ],
   "source": [
    "sns.set()\n",
    "\n",
    "sns.lineplot(x='Date', y='Rides', data=df)\n",
    "plt.xticks(rotation=90);"
   ]
  },
  {
   "cell_type": "markdown",
   "metadata": {},
   "source": [
    "# Make a dataframe that holds the number of rides per day"
   ]
  },
  {
   "cell_type": "code",
   "execution_count": 10,
   "metadata": {},
   "outputs": [],
   "source": [
    "data = []\n",
    "\n",
    "for i in range(files.index.values.shape[0]):\n",
    "    data.append(openCSV(files, i))"
   ]
  },
  {
   "cell_type": "code",
   "execution_count": 11,
   "metadata": {},
   "outputs": [],
   "source": [
    "fulldf = pd.concat(data[1:])"
   ]
  },
  {
   "cell_type": "code",
   "execution_count": 12,
   "metadata": {},
   "outputs": [
    {
     "data": {
      "text/plain": [
       "Index(['tripduration', 'starttime', 'stoptime', 'start station id',\n",
       "       'start station name', 'start station latitude',\n",
       "       'start station longitude', 'end station id', 'end station name',\n",
       "       'end station latitude', 'end station longitude', 'bikeid', 'usertype',\n",
       "       'birth year', 'gender'],\n",
       "      dtype='object')"
      ]
     },
     "execution_count": 12,
     "metadata": {},
     "output_type": "execute_result"
    }
   ],
   "source": [
    "fulldf.columns"
   ]
  },
  {
   "cell_type": "code",
   "execution_count": 13,
   "metadata": {},
   "outputs": [],
   "source": [
    "fulldf.index = fulldf['starttime']"
   ]
  },
  {
   "cell_type": "code",
   "execution_count": 14,
   "metadata": {},
   "outputs": [],
   "source": [
    "counts = fulldf.groupby(fulldf.index.date).count()"
   ]
  },
  {
   "cell_type": "code",
   "execution_count": 15,
   "metadata": {},
   "outputs": [
    {
     "data": {
      "text/html": [
       "<div>\n",
       "<style>\n",
       "    .dataframe thead tr:only-child th {\n",
       "        text-align: right;\n",
       "    }\n",
       "\n",
       "    .dataframe thead th {\n",
       "        text-align: left;\n",
       "    }\n",
       "\n",
       "    .dataframe tbody tr th {\n",
       "        vertical-align: top;\n",
       "    }\n",
       "</style>\n",
       "<table border=\"1\" class=\"dataframe\">\n",
       "  <thead>\n",
       "    <tr style=\"text-align: right;\">\n",
       "      <th></th>\n",
       "      <th>tripduration</th>\n",
       "      <th>starttime</th>\n",
       "      <th>stoptime</th>\n",
       "      <th>start station id</th>\n",
       "      <th>start station name</th>\n",
       "      <th>start station latitude</th>\n",
       "      <th>start station longitude</th>\n",
       "      <th>end station id</th>\n",
       "      <th>end station name</th>\n",
       "      <th>end station latitude</th>\n",
       "      <th>end station longitude</th>\n",
       "      <th>bikeid</th>\n",
       "      <th>usertype</th>\n",
       "      <th>birth year</th>\n",
       "      <th>gender</th>\n",
       "    </tr>\n",
       "  </thead>\n",
       "  <tbody>\n",
       "    <tr>\n",
       "      <th>2015-01-01</th>\n",
       "      <td>127</td>\n",
       "      <td>127</td>\n",
       "      <td>127</td>\n",
       "      <td>127</td>\n",
       "      <td>127</td>\n",
       "      <td>127</td>\n",
       "      <td>127</td>\n",
       "      <td>127</td>\n",
       "      <td>127</td>\n",
       "      <td>127</td>\n",
       "      <td>127</td>\n",
       "      <td>127</td>\n",
       "      <td>127</td>\n",
       "      <td>127</td>\n",
       "      <td>127</td>\n",
       "    </tr>\n",
       "    <tr>\n",
       "      <th>2015-01-02</th>\n",
       "      <td>213</td>\n",
       "      <td>213</td>\n",
       "      <td>213</td>\n",
       "      <td>213</td>\n",
       "      <td>213</td>\n",
       "      <td>213</td>\n",
       "      <td>213</td>\n",
       "      <td>213</td>\n",
       "      <td>213</td>\n",
       "      <td>213</td>\n",
       "      <td>213</td>\n",
       "      <td>213</td>\n",
       "      <td>213</td>\n",
       "      <td>213</td>\n",
       "      <td>213</td>\n",
       "    </tr>\n",
       "    <tr>\n",
       "      <th>2015-01-03</th>\n",
       "      <td>142</td>\n",
       "      <td>142</td>\n",
       "      <td>142</td>\n",
       "      <td>142</td>\n",
       "      <td>142</td>\n",
       "      <td>142</td>\n",
       "      <td>142</td>\n",
       "      <td>142</td>\n",
       "      <td>142</td>\n",
       "      <td>142</td>\n",
       "      <td>142</td>\n",
       "      <td>142</td>\n",
       "      <td>142</td>\n",
       "      <td>142</td>\n",
       "      <td>142</td>\n",
       "    </tr>\n",
       "    <tr>\n",
       "      <th>2015-01-04</th>\n",
       "      <td>112</td>\n",
       "      <td>112</td>\n",
       "      <td>112</td>\n",
       "      <td>112</td>\n",
       "      <td>112</td>\n",
       "      <td>112</td>\n",
       "      <td>112</td>\n",
       "      <td>112</td>\n",
       "      <td>112</td>\n",
       "      <td>112</td>\n",
       "      <td>112</td>\n",
       "      <td>112</td>\n",
       "      <td>112</td>\n",
       "      <td>112</td>\n",
       "      <td>112</td>\n",
       "    </tr>\n",
       "    <tr>\n",
       "      <th>2015-01-05</th>\n",
       "      <td>337</td>\n",
       "      <td>337</td>\n",
       "      <td>337</td>\n",
       "      <td>337</td>\n",
       "      <td>337</td>\n",
       "      <td>337</td>\n",
       "      <td>337</td>\n",
       "      <td>337</td>\n",
       "      <td>337</td>\n",
       "      <td>337</td>\n",
       "      <td>337</td>\n",
       "      <td>337</td>\n",
       "      <td>337</td>\n",
       "      <td>337</td>\n",
       "      <td>337</td>\n",
       "    </tr>\n",
       "  </tbody>\n",
       "</table>\n",
       "</div>"
      ],
      "text/plain": [
       "            tripduration  starttime  stoptime  start station id  \\\n",
       "2015-01-01           127        127       127               127   \n",
       "2015-01-02           213        213       213               213   \n",
       "2015-01-03           142        142       142               142   \n",
       "2015-01-04           112        112       112               112   \n",
       "2015-01-05           337        337       337               337   \n",
       "\n",
       "            start station name  start station latitude  \\\n",
       "2015-01-01                 127                     127   \n",
       "2015-01-02                 213                     213   \n",
       "2015-01-03                 142                     142   \n",
       "2015-01-04                 112                     112   \n",
       "2015-01-05                 337                     337   \n",
       "\n",
       "            start station longitude  end station id  end station name  \\\n",
       "2015-01-01                      127             127               127   \n",
       "2015-01-02                      213             213               213   \n",
       "2015-01-03                      142             142               142   \n",
       "2015-01-04                      112             112               112   \n",
       "2015-01-05                      337             337               337   \n",
       "\n",
       "            end station latitude  end station longitude  bikeid  usertype  \\\n",
       "2015-01-01                   127                    127     127       127   \n",
       "2015-01-02                   213                    213     213       213   \n",
       "2015-01-03                   142                    142     142       142   \n",
       "2015-01-04                   112                    112     112       112   \n",
       "2015-01-05                   337                    337     337       337   \n",
       "\n",
       "            birth year  gender  \n",
       "2015-01-01         127     127  \n",
       "2015-01-02         213     213  \n",
       "2015-01-03         142     142  \n",
       "2015-01-04         112     112  \n",
       "2015-01-05         337     337  "
      ]
     },
     "execution_count": 15,
     "metadata": {},
     "output_type": "execute_result"
    }
   ],
   "source": [
    "counts.head()"
   ]
  },
  {
   "cell_type": "code",
   "execution_count": 16,
   "metadata": {},
   "outputs": [
    {
     "data": {
      "text/plain": [
       "tripduration               81\n",
       "starttime                  81\n",
       "stoptime                   81\n",
       "start station id           81\n",
       "start station name         81\n",
       "start station latitude     81\n",
       "start station longitude    81\n",
       "end station id             81\n",
       "end station name           81\n",
       "end station latitude       81\n",
       "end station longitude      81\n",
       "bikeid                     81\n",
       "usertype                   81\n",
       "birth year                 81\n",
       "gender                     81\n",
       "Name: 2015-02-03, dtype: int64"
      ]
     },
     "execution_count": 16,
     "metadata": {},
     "output_type": "execute_result"
    }
   ],
   "source": [
    "counts.loc[pd.to_datetime('2015-02-03').date()]"
   ]
  },
  {
   "cell_type": "code",
   "execution_count": 29,
   "metadata": {},
   "outputs": [
    {
     "data": {
      "text/plain": [
       "(array([735599., 735780., 735964., 736146., 736330., 736511., 736695.,\n",
       "        736876., 737060.]), <a list of 9 Text xticklabel objects>)"
      ]
     },
     "execution_count": 29,
     "metadata": {},
     "output_type": "execute_result"
    },
    {
     "data": {
      "image/png": "[encoded data removed]",
      "text/plain": [
       "<Figure size 432x288 with 1 Axes>"
      ]
     },
     "metadata": {},
     "output_type": "display_data"
    }
   ],
   "source": [
    "sns.lineplot(x=counts.index, y=\"tripduration\", data=counts)\n",
    "plt.xticks(rotation=\"vertical\")"
   ]
  },
  {
   "cell_type": "markdown",
   "metadata": {},
   "source": [
    "# Merge rides/day data with the weather data "
   ]
  },
  {
   "cell_type": "code",
   "execution_count": 17,
   "metadata": {},
   "outputs": [],
   "source": [
    "# Import weather csv\n",
    "w_data = pd.read_csv(os.path.join(\"weather_data\", \"boston_weather_clean.csv\"))"
   ]
  },
  {
   "cell_type": "code",
   "execution_count": 18,
   "metadata": {},
   "outputs": [
    {
     "data": {
      "text/html": [
       "<div>\n",
       "<style>\n",
       "    .dataframe thead tr:only-child th {\n",
       "        text-align: right;\n",
       "    }\n",
       "\n",
       "    .dataframe thead th {\n",
       "        text-align: left;\n",
       "    }\n",
       "\n",
       "    .dataframe tbody tr th {\n",
       "        vertical-align: top;\n",
       "    }\n",
       "</style>\n",
       "<table border=\"1\" class=\"dataframe\">\n",
       "  <thead>\n",
       "    <tr style=\"text-align: right;\">\n",
       "      <th></th>\n",
       "      <th>Year</th>\n",
       "      <th>Month</th>\n",
       "      <th>Day</th>\n",
       "      <th>High Temp (F)</th>\n",
       "      <th>Avg Temp (F)</th>\n",
       "      <th>Low Temp (F)</th>\n",
       "      <th>High Dew Point (F)</th>\n",
       "      <th>Avg Dew Point (F)</th>\n",
       "      <th>Low Dew Point (F)</th>\n",
       "      <th>High Humidity (%)</th>\n",
       "      <th>...</th>\n",
       "      <th>Low Sea Level Press (in)</th>\n",
       "      <th>High Visibility (mi)</th>\n",
       "      <th>Avg Visibility (mi)</th>\n",
       "      <th>Low Visibility (mi)</th>\n",
       "      <th>High Wind (mph)</th>\n",
       "      <th>Avg Wind (mph)</th>\n",
       "      <th>High Wind Gust (mph)</th>\n",
       "      <th>Snowfall (in)</th>\n",
       "      <th>Precip (in)</th>\n",
       "      <th>Events</th>\n",
       "    </tr>\n",
       "  </thead>\n",
       "  <tbody>\n",
       "    <tr>\n",
       "      <th>0</th>\n",
       "      <td>2008</td>\n",
       "      <td>1</td>\n",
       "      <td>1</td>\n",
       "      <td>40</td>\n",
       "      <td>34</td>\n",
       "      <td>28</td>\n",
       "      <td>37</td>\n",
       "      <td>31</td>\n",
       "      <td>22</td>\n",
       "      <td>92</td>\n",
       "      <td>...</td>\n",
       "      <td>29.56</td>\n",
       "      <td>10</td>\n",
       "      <td>8</td>\n",
       "      <td>1</td>\n",
       "      <td>23</td>\n",
       "      <td>10</td>\n",
       "      <td>36</td>\n",
       "      <td>0.18</td>\n",
       "      <td>0.18</td>\n",
       "      <td>Both</td>\n",
       "    </tr>\n",
       "    <tr>\n",
       "      <th>1</th>\n",
       "      <td>2008</td>\n",
       "      <td>1</td>\n",
       "      <td>2</td>\n",
       "      <td>33</td>\n",
       "      <td>22</td>\n",
       "      <td>10</td>\n",
       "      <td>28</td>\n",
       "      <td>18</td>\n",
       "      <td>-3</td>\n",
       "      <td>82</td>\n",
       "      <td>...</td>\n",
       "      <td>29.55</td>\n",
       "      <td>10</td>\n",
       "      <td>10</td>\n",
       "      <td>9</td>\n",
       "      <td>28</td>\n",
       "      <td>15</td>\n",
       "      <td>38</td>\n",
       "      <td>0.00</td>\n",
       "      <td>0.00</td>\n",
       "      <td>Snow</td>\n",
       "    </tr>\n",
       "    <tr>\n",
       "      <th>2</th>\n",
       "      <td>2008</td>\n",
       "      <td>1</td>\n",
       "      <td>3</td>\n",
       "      <td>14</td>\n",
       "      <td>11</td>\n",
       "      <td>7</td>\n",
       "      <td>-3</td>\n",
       "      <td>-7</td>\n",
       "      <td>-9</td>\n",
       "      <td>60</td>\n",
       "      <td>...</td>\n",
       "      <td>30.22</td>\n",
       "      <td>10</td>\n",
       "      <td>10</td>\n",
       "      <td>10</td>\n",
       "      <td>25</td>\n",
       "      <td>17</td>\n",
       "      <td>32</td>\n",
       "      <td>0.00</td>\n",
       "      <td>0.00</td>\n",
       "      <td>None</td>\n",
       "    </tr>\n",
       "    <tr>\n",
       "      <th>3</th>\n",
       "      <td>2008</td>\n",
       "      <td>1</td>\n",
       "      <td>4</td>\n",
       "      <td>32</td>\n",
       "      <td>20</td>\n",
       "      <td>8</td>\n",
       "      <td>13</td>\n",
       "      <td>5</td>\n",
       "      <td>-8</td>\n",
       "      <td>63</td>\n",
       "      <td>...</td>\n",
       "      <td>30.37</td>\n",
       "      <td>10</td>\n",
       "      <td>10</td>\n",
       "      <td>10</td>\n",
       "      <td>23</td>\n",
       "      <td>12</td>\n",
       "      <td>28</td>\n",
       "      <td>0.00</td>\n",
       "      <td>0.00</td>\n",
       "      <td>None</td>\n",
       "    </tr>\n",
       "    <tr>\n",
       "      <th>4</th>\n",
       "      <td>2008</td>\n",
       "      <td>1</td>\n",
       "      <td>5</td>\n",
       "      <td>42</td>\n",
       "      <td>35</td>\n",
       "      <td>27</td>\n",
       "      <td>26</td>\n",
       "      <td>16</td>\n",
       "      <td>12</td>\n",
       "      <td>64</td>\n",
       "      <td>...</td>\n",
       "      <td>30.17</td>\n",
       "      <td>10</td>\n",
       "      <td>10</td>\n",
       "      <td>10</td>\n",
       "      <td>16</td>\n",
       "      <td>9</td>\n",
       "      <td>23</td>\n",
       "      <td>0.00</td>\n",
       "      <td>0.00</td>\n",
       "      <td>None</td>\n",
       "    </tr>\n",
       "  </tbody>\n",
       "</table>\n",
       "<p>5 rows × 24 columns</p>\n",
       "</div>"
      ],
      "text/plain": [
       "   Year  Month  Day  High Temp (F)  Avg Temp (F)  Low Temp (F)  \\\n",
       "0  2008      1    1             40            34            28   \n",
       "1  2008      1    2             33            22            10   \n",
       "2  2008      1    3             14            11             7   \n",
       "3  2008      1    4             32            20             8   \n",
       "4  2008      1    5             42            35            27   \n",
       "\n",
       "   High Dew Point (F)  Avg Dew Point (F)  Low Dew Point (F)  \\\n",
       "0                  37                 31                 22   \n",
       "1                  28                 18                 -3   \n",
       "2                  -3                 -7                 -9   \n",
       "3                  13                  5                 -8   \n",
       "4                  26                 16                 12   \n",
       "\n",
       "   High Humidity (%)   ...    Low Sea Level Press (in)  High Visibility (mi)  \\\n",
       "0                 92   ...                       29.56                    10   \n",
       "1                 82   ...                       29.55                    10   \n",
       "2                 60   ...                       30.22                    10   \n",
       "3                 63   ...                       30.37                    10   \n",
       "4                 64   ...                       30.17                    10   \n",
       "\n",
       "   Avg Visibility (mi)  Low Visibility (mi)  High Wind (mph)  Avg Wind (mph)  \\\n",
       "0                    8                    1               23              10   \n",
       "1                   10                    9               28              15   \n",
       "2                   10                   10               25              17   \n",
       "3                   10                   10               23              12   \n",
       "4                   10                   10               16               9   \n",
       "\n",
       "   High Wind Gust (mph)  Snowfall (in)  Precip (in)  Events  \n",
       "0                    36           0.18         0.18    Both  \n",
       "1                    38           0.00         0.00    Snow  \n",
       "2                    32           0.00         0.00    None  \n",
       "3                    28           0.00         0.00    None  \n",
       "4                    23           0.00         0.00    None  \n",
       "\n",
       "[5 rows x 24 columns]"
      ]
     },
     "execution_count": 18,
     "metadata": {},
     "output_type": "execute_result"
    }
   ],
   "source": [
    "w_data.head()"
   ]
  },
  {
   "cell_type": "code",
   "execution_count": 19,
   "metadata": {},
   "outputs": [],
   "source": [
    "def mergeData(weatherDF, ridesperdayDF):\n",
    "    \"\"\"\n",
    "    Takes two dataframes, one of weather per day and another about how many\n",
    "    bike rides were taken per day, and returns a new dataframe with combined\n",
    "    data.\n",
    "    \"\"\"\n",
    "    resdf = copy.copy(ridesperdayDF).drop(ridesperdayDF.columns.values[1:], axis=1)\n",
    "    resdf = resdf.rename(columns={'tripduration': 'num_rides'})\n",
    "    \n",
    "    for i in weatherDF[weatherDF['Year'] >= 2015].index.values:\n",
    "        date = pd.to_datetime(\"%d-%d-%d\" % (weatherDF.loc[i, 'Year'], \n",
    "                                            weatherDF.loc[i, 'Month'], \n",
    "                                            weatherDF.loc[i, 'Day'])).date()\n",
    "        \n",
    "        for feat in ['Avg Temp (F)', 'Snowfall (in)', 'Precip (in)', 'Events']:\n",
    "            resdf.loc[date, feat] = weatherDF.loc[i, feat]\n",
    "            \n",
    "    return resdf"
   ]
  },
  {
   "cell_type": "code",
   "execution_count": 20,
   "metadata": {},
   "outputs": [],
   "source": [
    "resdata = mergeData(w_data, counts)"
   ]
  },
  {
   "cell_type": "code",
   "execution_count": 21,
   "metadata": {},
   "outputs": [],
   "source": [
    "df = resdata.dropna()"
   ]
  },
  {
   "cell_type": "code",
   "execution_count": 22,
   "metadata": {},
   "outputs": [
    {
     "data": {
      "text/html": [
       "<div>\n",
       "<style>\n",
       "    .dataframe thead tr:only-child th {\n",
       "        text-align: right;\n",
       "    }\n",
       "\n",
       "    .dataframe thead th {\n",
       "        text-align: left;\n",
       "    }\n",
       "\n",
       "    .dataframe tbody tr th {\n",
       "        vertical-align: top;\n",
       "    }\n",
       "</style>\n",
       "<table border=\"1\" class=\"dataframe\">\n",
       "  <thead>\n",
       "    <tr style=\"text-align: right;\">\n",
       "      <th></th>\n",
       "      <th>num_rides</th>\n",
       "      <th>Avg Temp (F)</th>\n",
       "      <th>Snowfall (in)</th>\n",
       "      <th>Precip (in)</th>\n",
       "      <th>Events</th>\n",
       "    </tr>\n",
       "  </thead>\n",
       "  <tbody>\n",
       "    <tr>\n",
       "      <th>2015-01-01</th>\n",
       "      <td>127.0</td>\n",
       "      <td>28.0</td>\n",
       "      <td>0.00</td>\n",
       "      <td>0.00</td>\n",
       "      <td>None</td>\n",
       "    </tr>\n",
       "    <tr>\n",
       "      <th>2015-01-02</th>\n",
       "      <td>213.0</td>\n",
       "      <td>36.0</td>\n",
       "      <td>0.00</td>\n",
       "      <td>0.00</td>\n",
       "      <td>None</td>\n",
       "    </tr>\n",
       "    <tr>\n",
       "      <th>2015-01-03</th>\n",
       "      <td>142.0</td>\n",
       "      <td>30.0</td>\n",
       "      <td>0.62</td>\n",
       "      <td>0.62</td>\n",
       "      <td>Both</td>\n",
       "    </tr>\n",
       "    <tr>\n",
       "      <th>2015-01-04</th>\n",
       "      <td>112.0</td>\n",
       "      <td>44.0</td>\n",
       "      <td>0.00</td>\n",
       "      <td>0.57</td>\n",
       "      <td>Rain</td>\n",
       "    </tr>\n",
       "    <tr>\n",
       "      <th>2015-01-05</th>\n",
       "      <td>337.0</td>\n",
       "      <td>34.0</td>\n",
       "      <td>0.00</td>\n",
       "      <td>0.00</td>\n",
       "      <td>None</td>\n",
       "    </tr>\n",
       "  </tbody>\n",
       "</table>\n",
       "</div>"
      ],
      "text/plain": [
       "            num_rides  Avg Temp (F)  Snowfall (in)  Precip (in) Events\n",
       "2015-01-01      127.0          28.0           0.00         0.00   None\n",
       "2015-01-02      213.0          36.0           0.00         0.00   None\n",
       "2015-01-03      142.0          30.0           0.62         0.62   Both\n",
       "2015-01-04      112.0          44.0           0.00         0.57   Rain\n",
       "2015-01-05      337.0          34.0           0.00         0.00   None"
      ]
     },
     "execution_count": 22,
     "metadata": {},
     "output_type": "execute_result"
    }
   ],
   "source": [
    "df.head()"
   ]
  },
  {
   "cell_type": "code",
   "execution_count": 26,
   "metadata": {},
   "outputs": [
    {
     "data": {
      "text/plain": [
       "(array([735599., 735719., 735842., 735964., 736085., 736208., 736330.,\n",
       "        736450., 736573., 736695., 736815.]),\n",
       " <a list of 11 Text xticklabel objects>)"
      ]
     },
     "execution_count": 26,
     "metadata": {},
     "output_type": "execute_result"
    },
    {
     "data": {
      "image/png": "[encoded data removed]",
      "text/plain": [
       "<Figure size 432x288 with 1 Axes>"
      ]
     },
     "metadata": {},
     "output_type": "display_data"
    }
   ],
   "source": [
    "sns.set()\n",
    "\n",
    "ax = sns.lineplot(x=df.index, y='num_rides', data=df)\n",
    "plt.xticks(rotation='vertical')"
   ]
  },
  {
   "cell_type": "code",
   "execution_count": 24,
   "metadata": {},
   "outputs": [
    {
     "data": {
      "text/plain": [
       "<matplotlib.axes._subplots.AxesSubplot at 0x7f5a78455ef0>"
      ]
     },
     "execution_count": 24,
     "metadata": {},
     "output_type": "execute_result"
    },
    {
     "data": {
      "image/png": "[encoded data removed]",
      "text/plain": [
       "<Figure size 432x288 with 1 Axes>"
      ]
     },
     "metadata": {},
     "output_type": "display_data"
    }
   ],
   "source": [
    "sns.scatterplot(x='num_rides', y='Snowfall (in)', data=df)"
   ]
  }
 ],
 "metadata": {
  "kernelspec": {
   "display_name": "Python 3",
   "language": "python",
   "name": "python3"
  },
  "language_info": {
   "codemirror_mode": {
    "name": "ipython",
    "version": 3
   },
   "file_extension": ".py",
   "mimetype": "text/x-python",
   "name": "python",
   "nbconvert_exporter": "python",
   "pygments_lexer": "ipython3",
   "version": "3.6.8"
  }
 },
 "nbformat": 4,
 "nbformat_minor": 2
}
