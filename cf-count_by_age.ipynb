{
 "cells": [
  {
   "cell_type": "code",
   "execution_count": 1,
   "metadata": {},
   "outputs": [],
   "source": [
    "import pandas as pd\n",
    "import numpy as np\n",
    "import glob\n",
    "import os\n",
    "import copy"
   ]
  },
  {
   "cell_type": "code",
   "execution_count": 2,
   "metadata": {},
   "outputs": [],
   "source": [
    "def readDir():\n",
    "    \"\"\"\n",
    "    Returns a dataframe of the data files in the directory with the bikeshare data.\n",
    "    \"\"\"\n",
    "    data = pd.DataFrame()\n",
    "    \n",
    "    path = os.path.join(os.sep, \"raid\", \"public_data\", \"Bike_Share_Data\", \"Boston\")\n",
    "    \n",
    "    for filename in glob.glob(os.path.join(path, '*.csv')):\n",
    "        # Get the filesizes in megabytes\n",
    "        f_size = os.path.getsize(filename) / 1_000_000\n",
    "        \n",
    "        # A dictionary stores information about the files to be be put in the df\n",
    "        file = {\"Filename\": filename, \"Size (mb)\": f_size}\n",
    "        data = data.append(file, ignore_index=True)\n",
    "        \n",
    "    return data\n",
    "\n",
    "def openCSV(files, index):\n",
    "    \"\"\"\n",
    "    Using filenames retrieved with readDir, use this function to open a specific\n",
    "    csv. Returns a dataframe with the data requested.\n",
    "    \"\"\"\n",
    "    data = pd.read_csv(files.loc[index, 'Filename'])\n",
    "    if index != 0:\n",
    "        data['starttime'] = pd.to_datetime(data['starttime'])\n",
    "        data['stoptime'] = pd.to_datetime(data['stoptime'])\n",
    "#         files.loc[index, 'Month'] = data.loc[0, 'starttime'].month\n",
    "#         files.loc[index, 'Year']  = data.loc[0, 'starttime'].year\n",
    "    return data\n",
    "    "
   ]
  },
  {
   "cell_type": "code",
   "execution_count": 4,
   "metadata": {},
   "outputs": [],
   "source": [
    "files = readDir()\n",
    "\n",
    "data = []\n",
    "\n",
    "for i in range(files.index.values.shape[0]):\n",
    "    data.append(openCSV(files, i))\n",
    "    \n",
    "fulldf = pd.concat(data[1:])"
   ]
  },
  {
   "cell_type": "code",
   "execution_count": 11,
   "metadata": {},
   "outputs": [
    {
     "data": {
      "text/plain": [
       "array(['1990', '1985', '1988', '1986', '1991', '1993', '1992', '1970',\n",
       "       '1981', '1982', '1980', '1974', '1966', '1976', '1973', '1978',\n",
       "       '1987', '1975', '1989', '1955', '1965', '1967', '1962', '1979',\n",
       "       '1983', '1958', '1977', '1971', '1968', '1994', '1960', '1950',\n",
       "       '1945', '1961', '1998', '1984', '1969', '1957', '1963', '1996',\n",
       "       '1997', '1964', '1995', '1956', '\\\\N', '1954', '1959', '1944',\n",
       "       '1953', '1972', '1946', '1952', '1999', '1948', '1947', '1937',\n",
       "       '1917', '1942', '1943', '1949', '1933', '1934', '1951', '1941',\n",
       "       '2000', '1939', '1902', '1886', '1900', '2001', '1897', '1940',\n",
       "       '1899', '1901', '1932', '1938', '1927', 1994, 1991, 1987, 1969,\n",
       "       1982, 1993, 1985, 1976, 1984, 1988, 1974, 1953, 1992, 1990, 1962,\n",
       "       1980, 1961, 1955, 1956, 1989, 1965, 1960, 1958, 1959, 1981, 1973,\n",
       "       1986, 1957, 1983, 1968, 1996, 1967, 1998, 1978, 1952, 1970, 1971,\n",
       "       1972, 1954, 1966, 1977, 1963, 1975, 1934, 1950, 1979, 1964, 1948,\n",
       "       1995, 1947, 1997, 1943, 1951, 1941, 1999, 1946, 1944, 1945, 1942,\n",
       "       2000, 1949, 1933, 1937, '1887', '1929', nan, 2001.0, 1929.0,\n",
       "       1939.0, 1888.0, 1887.0, 1886.0, 1900.0, 1917, 1927, 2002, 1938,\n",
       "       1940, 1892, 1907, 1901, 1935, 1921, 1863, 1899, 1922], dtype=object)"
      ]
     },
     "execution_count": 11,
     "metadata": {},
     "output_type": "execute_result"
    }
   ],
   "source": [
    "fulldf[\"birth year\"].unique()"
   ]
  }
 ],
 "metadata": {
  "kernelspec": {
   "display_name": "Python 3",
   "language": "python",
   "name": "python3"
  },
  "language_info": {
   "codemirror_mode": {
    "name": "ipython",
    "version": 3
   },
   "file_extension": ".py",
   "mimetype": "text/x-python",
   "name": "python",
   "nbconvert_exporter": "python",
   "pygments_lexer": "ipython3",
   "version": "3.6.8"
  }
 },
 "nbformat": 4,
 "nbformat_minor": 2
}
