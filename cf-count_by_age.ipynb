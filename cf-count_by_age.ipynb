{
 "cells": [
  {
   "cell_type": "code",
   "execution_count": 1,
   "metadata": {},
   "outputs": [],
   "source": [
    "import pandas as pd\n",
    "import numpy as np\n",
    "import glob\n",
    "import os\n",
    "import copy"
   ]
  },
  {
   "cell_type": "markdown",
   "metadata": {},
   "source": [
    "## Functions\n",
    "\n",
    "Define a few functions that help open and process the data"
   ]
  },
  {
   "cell_type": "code",
   "execution_count": 2,
   "metadata": {},
   "outputs": [],
   "source": [
    "def readDir():\n",
    "    \"\"\"\n",
    "    Returns a dataframe of the data files in the directory with the bikeshare data.\n",
    "    \"\"\"\n",
    "    data = pd.DataFrame()\n",
    "    \n",
    "    path = os.path.join(os.sep, \"raid\", \"public_data\", \"Bike_Share_Data\", \"Boston\")\n",
    "    \n",
    "    for filename in glob.glob(os.path.join(path, '*.csv')):\n",
    "        # Get the filesizes in megabytes\n",
    "        f_size = os.path.getsize(filename) / 1_000_000\n",
    "        \n",
    "        # A dictionary stores information about the files to be be put in the df\n",
    "        file = {\"Filename\": filename, \"Size (mb)\": f_size}\n",
    "        data = data.append(file, ignore_index=True)\n",
    "        \n",
    "    return data\n",
    "\n",
    "def openCSV(files, index):\n",
    "    \"\"\"\n",
    "    Using filenames retrieved with readDir, use this function to open a specific\n",
    "    csv. Returns a dataframe with the data requested.\n",
    "    \"\"\"\n",
    "    data = pd.read_csv(files.loc[index, 'Filename'])\n",
    "    if index != 0:\n",
    "        data['starttime'] = pd.to_datetime(data['starttime'])\n",
    "        data['stoptime'] = pd.to_datetime(data['stoptime'])\n",
    "    return data\n",
    "\n",
    "def combineDFs(files):\n",
    "    \"\"\"\n",
    "    Makes a single dataframe that holds all the values for all the years.\n",
    "    \"\"\"\n",
    "    data = []\n",
    "\n",
    "    for i in range(files.index.values.shape[0]):\n",
    "        data.append(openCSV(files, i))\n",
    "\n",
    "    fulldf = pd.concat(data[1:], ignore_index=True)\n",
    "    fulldf['birth year'] = fulldf['birth year'].astype(int, errors='ignore')\n",
    "    \n",
    "    return fulldf.sort_values(by='starttime').reset_index(drop=True)"
   ]
  },
  {
   "cell_type": "markdown",
   "metadata": {},
   "source": [
    "## Clean and transform the dataset\n",
    "\n",
    "We're focusing here on the age of bike riders. Let's get a new column of their age. This cell will take a second, as the dataset is around 5 million!"
   ]
  },
  {
   "cell_type": "code",
   "execution_count": 3,
   "metadata": {},
   "outputs": [],
   "source": [
    "# Read in files and create dataframe\n",
    "files = readDir()\n",
    "data  = combineDFs(files)\n",
    "\n",
    "# data.set_index('starttime', inplace=True)\n",
    "\n",
    "# Drop all rows where birth year is NULL\n",
    "data = data.dropna(subset=['birth year'])\n",
    "\n",
    "# Drop all rows where birth year is '\\N'\n",
    "data = data[data['birth year']!='\\\\N']\n",
    "data = data.reset_index(drop=True)\n",
    "\n",
    "# Convert birth year column to an integer\n",
    "data['birth year'] = data['birth year'].astype(int, errors='ignore')\n",
    "\n",
    "# Create a column for year\n",
    "data['year'] = data['starttime'].map(lambda x: x.year)\n",
    "\n",
    "# Now create an age column\n",
    "data['rider age'] = data['year'] - data['birth year']"
   ]
  },
  {
   "cell_type": "code",
   "execution_count": 4,
   "metadata": {},
   "outputs": [],
   "source": [
    "# Drop riders whose age is > 80 (ASSUMPTION)\n",
    "data = data[data['rider age'] <= 80]\n",
    "data = data.reset_index(drop=True)"
   ]
  },
  {
   "cell_type": "code",
   "execution_count": 5,
   "metadata": {},
   "outputs": [],
   "source": [
    "# Drop trip durations that are more than 1 hour -- or more than 3 standard deviations from the mean (ASSUMPTION)\n",
    "data = data[data['tripduration'] < (1*60*60)] # Tripduration is given in seconds"
   ]
  },
  {
   "cell_type": "code",
   "execution_count": 6,
   "metadata": {},
   "outputs": [],
   "source": [
    "# def ageCat(age):\n",
    "#     \"\"\"\n",
    "#     Takes an age, returns a category:\n",
    "#     1 - age < 20\n",
    "#     2 - 20 <= age < 30\n",
    "#     3 - 30 <= age < 40\n",
    "#     4 - 40 <= age < 50\n",
    "#     5 - \n",
    "#     \"\"\"\n",
    "\n",
    "# data['age group'] = data[]"
   ]
  },
  {
   "cell_type": "code",
   "execution_count": 7,
   "metadata": {},
   "outputs": [
    {
     "name": "stdout",
     "output_type": "stream",
     "text": [
      "<class 'pandas.core.frame.DataFrame'>\n",
      "Int64Index: 4741425 entries, 0 to 4816542\n",
      "Data columns (total 17 columns):\n",
      "tripduration               int64\n",
      "starttime                  datetime64[ns]\n",
      "stoptime                   datetime64[ns]\n",
      "start station id           int64\n",
      "start station name         object\n",
      "start station latitude     float64\n",
      "start station longitude    float64\n",
      "end station id             object\n",
      "end station name           object\n",
      "end station latitude       object\n",
      "end station longitude      object\n",
      "bikeid                     int64\n",
      "usertype                   object\n",
      "birth year                 int64\n",
      "gender                     int64\n",
      "year                       int64\n",
      "rider age                  int64\n",
      "dtypes: datetime64[ns](2), float64(2), int64(7), object(6)\n",
      "memory usage: 651.1+ MB\n"
     ]
    }
   ],
   "source": [
    "data.info()"
   ]
  },
  {
   "cell_type": "markdown",
   "metadata": {},
   "source": [
    "# Visualize the data"
   ]
  },
  {
   "cell_type": "code",
   "execution_count": 8,
   "metadata": {},
   "outputs": [],
   "source": [
    "import seaborn as sns\n",
    "import matplotlib.pyplot as plt"
   ]
  },
  {
   "cell_type": "code",
   "execution_count": 9,
   "metadata": {},
   "outputs": [
    {
     "data": {
      "text/plain": [
       "<matplotlib.axes._subplots.AxesSubplot at 0x7fdd3923e5f8>"
      ]
     },
     "execution_count": 9,
     "metadata": {},
     "output_type": "execute_result"
    },
    {
     "data": {
      "image/png": "[encoded data removed]",
      "text/plain": [
       "<Figure size 432x288 with 1 Axes>"
      ]
     },
     "metadata": {},
     "output_type": "display_data"
    }
   ],
   "source": [
    "sns.set()\n",
    "\n",
    "sns.boxplot(x='gender', y='rider age', data=data)"
   ]
  },
  {
   "cell_type": "code",
   "execution_count": 10,
   "metadata": {},
   "outputs": [
    {
     "name": "stderr",
     "output_type": "stream",
     "text": [
      "/opt/anaconda/lib/python3.6/site-packages/scipy/stats/stats.py:1713: FutureWarning: Using a non-tuple sequence for multidimensional indexing is deprecated; use `arr[tuple(seq)]` instead of `arr[seq]`. In the future this will be interpreted as an array index, `arr[np.array(seq)]`, which will result either in an error or a different result.\n",
      "  return np.add.reduce(sorted[indexer] * weights, axis=axis) / sumval\n"
     ]
    },
    {
     "data": {
      "text/plain": [
       "<matplotlib.axes._subplots.AxesSubplot at 0x7fdd390ba4e0>"
      ]
     },
     "execution_count": 10,
     "metadata": {},
     "output_type": "execute_result"
    },
    {
     "data": {
      "image/png": "[encoded data removed]",
      "text/plain": [
       "<Figure size 432x288 with 1 Axes>"
      ]
     },
     "metadata": {},
     "output_type": "display_data"
    }
   ],
   "source": [
    "sns.distplot(data['rider age'])"
   ]
  },
  {
   "cell_type": "code",
   "execution_count": 11,
   "metadata": {},
   "outputs": [
    {
     "data": {
      "text/html": [
       "<div>\n",
       "<style>\n",
       "    .dataframe thead tr:only-child th {\n",
       "        text-align: right;\n",
       "    }\n",
       "\n",
       "    .dataframe thead th {\n",
       "        text-align: left;\n",
       "    }\n",
       "\n",
       "    .dataframe tbody tr th {\n",
       "        vertical-align: top;\n",
       "    }\n",
       "</style>\n",
       "<table border=\"1\" class=\"dataframe\">\n",
       "  <thead>\n",
       "    <tr style=\"text-align: right;\">\n",
       "      <th></th>\n",
       "      <th>tripduration</th>\n",
       "      <th>start station id</th>\n",
       "      <th>start station latitude</th>\n",
       "      <th>start station longitude</th>\n",
       "      <th>bikeid</th>\n",
       "      <th>birth year</th>\n",
       "      <th>gender</th>\n",
       "      <th>year</th>\n",
       "      <th>rider age</th>\n",
       "    </tr>\n",
       "  </thead>\n",
       "  <tbody>\n",
       "    <tr>\n",
       "      <th>count</th>\n",
       "      <td>4.741425e+06</td>\n",
       "      <td>4.741425e+06</td>\n",
       "      <td>4.741425e+06</td>\n",
       "      <td>4.741425e+06</td>\n",
       "      <td>4.741425e+06</td>\n",
       "      <td>4.741425e+06</td>\n",
       "      <td>4.741425e+06</td>\n",
       "      <td>4.741425e+06</td>\n",
       "      <td>4.741425e+06</td>\n",
       "    </tr>\n",
       "    <tr>\n",
       "      <th>mean</th>\n",
       "      <td>7.455294e+02</td>\n",
       "      <td>8.545558e+01</td>\n",
       "      <td>4.235781e+01</td>\n",
       "      <td>-7.108662e+01</td>\n",
       "      <td>1.455972e+03</td>\n",
       "      <td>1.982186e+03</td>\n",
       "      <td>1.199629e+00</td>\n",
       "      <td>2.016807e+03</td>\n",
       "      <td>3.462032e+01</td>\n",
       "    </tr>\n",
       "    <tr>\n",
       "      <th>std</th>\n",
       "      <td>5.161512e+02</td>\n",
       "      <td>5.940849e+01</td>\n",
       "      <td>9.838128e-02</td>\n",
       "      <td>1.651003e-01</td>\n",
       "      <td>1.079745e+03</td>\n",
       "      <td>1.142000e+01</td>\n",
       "      <td>4.927798e-01</td>\n",
       "      <td>1.152553e+00</td>\n",
       "      <td>1.137085e+01</td>\n",
       "    </tr>\n",
       "    <tr>\n",
       "      <th>min</th>\n",
       "      <td>6.100000e+01</td>\n",
       "      <td>1.000000e+00</td>\n",
       "      <td>0.000000e+00</td>\n",
       "      <td>-7.116649e+01</td>\n",
       "      <td>1.000000e+00</td>\n",
       "      <td>1.937000e+03</td>\n",
       "      <td>0.000000e+00</td>\n",
       "      <td>2.015000e+03</td>\n",
       "      <td>1.600000e+01</td>\n",
       "    </tr>\n",
       "    <tr>\n",
       "      <th>25%</th>\n",
       "      <td>3.770000e+02</td>\n",
       "      <td>4.100000e+01</td>\n",
       "      <td>4.234876e+01</td>\n",
       "      <td>-7.110441e+01</td>\n",
       "      <td>6.240000e+02</td>\n",
       "      <td>1.975000e+03</td>\n",
       "      <td>1.000000e+00</td>\n",
       "      <td>2.016000e+03</td>\n",
       "      <td>2.600000e+01</td>\n",
       "    </tr>\n",
       "    <tr>\n",
       "      <th>50%</th>\n",
       "      <td>6.070000e+02</td>\n",
       "      <td>7.400000e+01</td>\n",
       "      <td>4.235810e+01</td>\n",
       "      <td>-7.108822e+01</td>\n",
       "      <td>1.172000e+03</td>\n",
       "      <td>1.986000e+03</td>\n",
       "      <td>1.000000e+00</td>\n",
       "      <td>2.017000e+03</td>\n",
       "      <td>3.100000e+01</td>\n",
       "    </tr>\n",
       "    <tr>\n",
       "      <th>75%</th>\n",
       "      <td>9.710000e+02</td>\n",
       "      <td>1.150000e+02</td>\n",
       "      <td>4.236616e+01</td>\n",
       "      <td>-7.106629e+01</td>\n",
       "      <td>2.084000e+03</td>\n",
       "      <td>1.991000e+03</td>\n",
       "      <td>1.000000e+00</td>\n",
       "      <td>2.018000e+03</td>\n",
       "      <td>4.100000e+01</td>\n",
       "    </tr>\n",
       "    <tr>\n",
       "      <th>max</th>\n",
       "      <td>3.599000e+03</td>\n",
       "      <td>3.810000e+02</td>\n",
       "      <td>4.240630e+01</td>\n",
       "      <td>0.000000e+00</td>\n",
       "      <td>4.565000e+03</td>\n",
       "      <td>2.002000e+03</td>\n",
       "      <td>2.000000e+00</td>\n",
       "      <td>2.019000e+03</td>\n",
       "      <td>8.000000e+01</td>\n",
       "    </tr>\n",
       "  </tbody>\n",
       "</table>\n",
       "</div>"
      ],
      "text/plain": [
       "       tripduration  start station id  start station latitude  \\\n",
       "count  4.741425e+06      4.741425e+06            4.741425e+06   \n",
       "mean   7.455294e+02      8.545558e+01            4.235781e+01   \n",
       "std    5.161512e+02      5.940849e+01            9.838128e-02   \n",
       "min    6.100000e+01      1.000000e+00            0.000000e+00   \n",
       "25%    3.770000e+02      4.100000e+01            4.234876e+01   \n",
       "50%    6.070000e+02      7.400000e+01            4.235810e+01   \n",
       "75%    9.710000e+02      1.150000e+02            4.236616e+01   \n",
       "max    3.599000e+03      3.810000e+02            4.240630e+01   \n",
       "\n",
       "       start station longitude        bikeid    birth year        gender  \\\n",
       "count             4.741425e+06  4.741425e+06  4.741425e+06  4.741425e+06   \n",
       "mean             -7.108662e+01  1.455972e+03  1.982186e+03  1.199629e+00   \n",
       "std               1.651003e-01  1.079745e+03  1.142000e+01  4.927798e-01   \n",
       "min              -7.116649e+01  1.000000e+00  1.937000e+03  0.000000e+00   \n",
       "25%              -7.110441e+01  6.240000e+02  1.975000e+03  1.000000e+00   \n",
       "50%              -7.108822e+01  1.172000e+03  1.986000e+03  1.000000e+00   \n",
       "75%              -7.106629e+01  2.084000e+03  1.991000e+03  1.000000e+00   \n",
       "max               0.000000e+00  4.565000e+03  2.002000e+03  2.000000e+00   \n",
       "\n",
       "               year     rider age  \n",
       "count  4.741425e+06  4.741425e+06  \n",
       "mean   2.016807e+03  3.462032e+01  \n",
       "std    1.152553e+00  1.137085e+01  \n",
       "min    2.015000e+03  1.600000e+01  \n",
       "25%    2.016000e+03  2.600000e+01  \n",
       "50%    2.017000e+03  3.100000e+01  \n",
       "75%    2.018000e+03  4.100000e+01  \n",
       "max    2.019000e+03  8.000000e+01  "
      ]
     },
     "execution_count": 11,
     "metadata": {},
     "output_type": "execute_result"
    }
   ],
   "source": [
    "data.describe()"
   ]
  },
  {
   "cell_type": "code",
   "execution_count": 16,
   "metadata": {},
   "outputs": [
    {
     "data": {
      "text/plain": [
       "Text(0, 0.5, 'Minutes')"
      ]
     },
     "execution_count": 16,
     "metadata": {},
     "output_type": "execute_result"
    },
    {
     "data": {
      "image/png": "[encoded data removed]",
      "text/plain": [
       "<Figure size 432x288 with 1 Axes>"
      ]
     },
     "metadata": {},
     "output_type": "display_data"
    }
   ],
   "source": [
    "sns.boxplot(data=data['tripduration'] / 60)\n",
    "# plt.yscale('log')\n",
    "plt.ylabel(\"Minutes\")"
   ]
  },
  {
   "cell_type": "code",
   "execution_count": 13,
   "metadata": {},
   "outputs": [
    {
     "data": {
      "text/plain": [
       "58.42152333333333"
      ]
     },
     "execution_count": 13,
     "metadata": {},
     "output_type": "execute_result"
    }
   ],
   "source": [
    "(8.226302e+02 + 3 * (8.942204e+02)) / 60"
   ]
  }
 ],
 "metadata": {
  "kernelspec": {
   "display_name": "Python 3",
   "language": "python",
   "name": "python3"
  },
  "language_info": {
   "codemirror_mode": {
    "name": "ipython",
    "version": 3
   },
   "file_extension": ".py",
   "mimetype": "text/x-python",
   "name": "python",
   "nbconvert_exporter": "python",
   "pygments_lexer": "ipython3",
   "version": "3.6.8"
  }
 },
 "nbformat": 4,
 "nbformat_minor": 2
}
